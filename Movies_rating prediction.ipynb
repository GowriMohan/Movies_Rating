{
 "cells": [
  {
   "cell_type": "code",
   "execution_count": 1,
   "id": "4ea9635e",
   "metadata": {},
   "outputs": [],
   "source": [
    "# importing neccessary libraries\n",
    "import numpy as np\n",
    "import pandas as pd\n",
    "import matplotlib.pyplot as plt\n",
    "%matplotlib inline \n",
    "import seaborn as sns\n",
    "import warnings\n",
    "warnings.filterwarnings(\"ignore\")\n",
    "\n",
    "from sklearn.linear_model import LinearRegression\n",
    "from sklearn.metrics import r2_score"
   ]
  },
  {
   "cell_type": "markdown",
   "id": "994fb5cc",
   "metadata": {},
   "source": [
    "The dataset has ratings data of 400 movies from 1097 research participants. \n",
    "\n",
    "#### The dataset details are as:\n",
    "\n",
    "- 1st row: Headers (Movie titles/questions)\n",
    "- Columns 1-400: These columns contain the ratings for the 400 movies (0 to 4, and missing)\n",
    "- Columns 401-420: These columns contain self-assessments on sensation seeking behaviors (1-5)\n",
    "- Columns 421-464: These columns contain responses to personality questions (1-5)\n",
    "- Columns 465-474: These columns contain self-reported movie experience ratings (1-5)\n",
    "- Column 475: Gender identity (1 = female, 2 = male, 3 = self-described)\n",
    "- Column 476: Only child (1 = yes, 0 = no, -1 = no response)\n",
    "- Column 477: Movies are best enjoyed alone (1 = yes, 0 = no, -1 = no response)"
   ]
  },
  {
   "cell_type": "code",
   "execution_count": 2,
   "id": "6fdfe656",
   "metadata": {},
   "outputs": [
    {
     "data": {
      "text/html": [
       "<div>\n",
       "<style scoped>\n",
       "    .dataframe tbody tr th:only-of-type {\n",
       "        vertical-align: middle;\n",
       "    }\n",
       "\n",
       "    .dataframe tbody tr th {\n",
       "        vertical-align: top;\n",
       "    }\n",
       "\n",
       "    .dataframe thead th {\n",
       "        text-align: right;\n",
       "    }\n",
       "</style>\n",
       "<table border=\"1\" class=\"dataframe\">\n",
       "  <thead>\n",
       "    <tr style=\"text-align: right;\">\n",
       "      <th></th>\n",
       "      <th>The Life of David Gale (2003)</th>\n",
       "      <th>Wing Commander (1999)</th>\n",
       "      <th>Django Unchained (2012)</th>\n",
       "      <th>Alien (1979)</th>\n",
       "      <th>Indiana Jones and the Last Crusade (1989)</th>\n",
       "      <th>Snatch (2000)</th>\n",
       "      <th>Rambo: First Blood Part II (1985)</th>\n",
       "      <th>Fargo (1996)</th>\n",
       "      <th>Let the Right One In (2008)</th>\n",
       "      <th>Black Swan (2010)</th>\n",
       "      <th>...</th>\n",
       "      <th>When watching a movie I cheer or shout or talk or curse at the screen</th>\n",
       "      <th>When watching a movie I feel like the things on the screen are happening to me</th>\n",
       "      <th>As a movie unfolds I start to have problems keeping track of events that happened earlier</th>\n",
       "      <th>The emotions on the screen \"rub off\" on me - for instance if something sad is happening I get sad or if something frightening is happening I get scared</th>\n",
       "      <th>When watching a movie I get completely immersed in the alternative reality of the film</th>\n",
       "      <th>Movies change my position on social economic or political issues</th>\n",
       "      <th>When watching movies things get so intense that I have to stop watching</th>\n",
       "      <th>Gender identity (1 = female; 2 = male; 3 = self-described)</th>\n",
       "      <th>Are you an only child? (1: Yes; 0: No; -1: Did not respond)</th>\n",
       "      <th>Movies are best enjoyed alone (1: Yes; 0: No; -1: Did not respond)</th>\n",
       "    </tr>\n",
       "  </thead>\n",
       "  <tbody>\n",
       "    <tr>\n",
       "      <th>0</th>\n",
       "      <td>NaN</td>\n",
       "      <td>NaN</td>\n",
       "      <td>4.0</td>\n",
       "      <td>NaN</td>\n",
       "      <td>3.0</td>\n",
       "      <td>NaN</td>\n",
       "      <td>NaN</td>\n",
       "      <td>NaN</td>\n",
       "      <td>NaN</td>\n",
       "      <td>NaN</td>\n",
       "      <td>...</td>\n",
       "      <td>1.0</td>\n",
       "      <td>6.0</td>\n",
       "      <td>2.0</td>\n",
       "      <td>5.0</td>\n",
       "      <td>5.0</td>\n",
       "      <td>5.0</td>\n",
       "      <td>1.0</td>\n",
       "      <td>1.0</td>\n",
       "      <td>0</td>\n",
       "      <td>1</td>\n",
       "    </tr>\n",
       "    <tr>\n",
       "      <th>1</th>\n",
       "      <td>NaN</td>\n",
       "      <td>NaN</td>\n",
       "      <td>1.5</td>\n",
       "      <td>NaN</td>\n",
       "      <td>NaN</td>\n",
       "      <td>NaN</td>\n",
       "      <td>NaN</td>\n",
       "      <td>NaN</td>\n",
       "      <td>NaN</td>\n",
       "      <td>NaN</td>\n",
       "      <td>...</td>\n",
       "      <td>3.0</td>\n",
       "      <td>1.0</td>\n",
       "      <td>1.0</td>\n",
       "      <td>6.0</td>\n",
       "      <td>5.0</td>\n",
       "      <td>3.0</td>\n",
       "      <td>2.0</td>\n",
       "      <td>1.0</td>\n",
       "      <td>0</td>\n",
       "      <td>0</td>\n",
       "    </tr>\n",
       "    <tr>\n",
       "      <th>2</th>\n",
       "      <td>NaN</td>\n",
       "      <td>NaN</td>\n",
       "      <td>NaN</td>\n",
       "      <td>NaN</td>\n",
       "      <td>NaN</td>\n",
       "      <td>NaN</td>\n",
       "      <td>NaN</td>\n",
       "      <td>NaN</td>\n",
       "      <td>NaN</td>\n",
       "      <td>NaN</td>\n",
       "      <td>...</td>\n",
       "      <td>5.0</td>\n",
       "      <td>4.0</td>\n",
       "      <td>3.0</td>\n",
       "      <td>5.0</td>\n",
       "      <td>5.0</td>\n",
       "      <td>4.0</td>\n",
       "      <td>4.0</td>\n",
       "      <td>1.0</td>\n",
       "      <td>1</td>\n",
       "      <td>0</td>\n",
       "    </tr>\n",
       "    <tr>\n",
       "      <th>3</th>\n",
       "      <td>NaN</td>\n",
       "      <td>NaN</td>\n",
       "      <td>2.0</td>\n",
       "      <td>NaN</td>\n",
       "      <td>3.0</td>\n",
       "      <td>NaN</td>\n",
       "      <td>NaN</td>\n",
       "      <td>NaN</td>\n",
       "      <td>NaN</td>\n",
       "      <td>4.0</td>\n",
       "      <td>...</td>\n",
       "      <td>3.0</td>\n",
       "      <td>1.0</td>\n",
       "      <td>1.0</td>\n",
       "      <td>4.0</td>\n",
       "      <td>5.0</td>\n",
       "      <td>3.0</td>\n",
       "      <td>1.0</td>\n",
       "      <td>1.0</td>\n",
       "      <td>0</td>\n",
       "      <td>1</td>\n",
       "    </tr>\n",
       "    <tr>\n",
       "      <th>4</th>\n",
       "      <td>NaN</td>\n",
       "      <td>NaN</td>\n",
       "      <td>3.5</td>\n",
       "      <td>NaN</td>\n",
       "      <td>0.5</td>\n",
       "      <td>NaN</td>\n",
       "      <td>0.5</td>\n",
       "      <td>1.0</td>\n",
       "      <td>NaN</td>\n",
       "      <td>0.0</td>\n",
       "      <td>...</td>\n",
       "      <td>2.0</td>\n",
       "      <td>3.0</td>\n",
       "      <td>2.0</td>\n",
       "      <td>5.0</td>\n",
       "      <td>6.0</td>\n",
       "      <td>4.0</td>\n",
       "      <td>4.0</td>\n",
       "      <td>1.0</td>\n",
       "      <td>1</td>\n",
       "      <td>1</td>\n",
       "    </tr>\n",
       "  </tbody>\n",
       "</table>\n",
       "<p>5 rows × 477 columns</p>\n",
       "</div>"
      ],
      "text/plain": [
       "   The Life of David Gale (2003)  Wing Commander (1999)  \\\n",
       "0                            NaN                    NaN   \n",
       "1                            NaN                    NaN   \n",
       "2                            NaN                    NaN   \n",
       "3                            NaN                    NaN   \n",
       "4                            NaN                    NaN   \n",
       "\n",
       "   Django Unchained (2012)  Alien (1979)  \\\n",
       "0                      4.0           NaN   \n",
       "1                      1.5           NaN   \n",
       "2                      NaN           NaN   \n",
       "3                      2.0           NaN   \n",
       "4                      3.5           NaN   \n",
       "\n",
       "   Indiana Jones and the Last Crusade (1989)  Snatch (2000)  \\\n",
       "0                                        3.0            NaN   \n",
       "1                                        NaN            NaN   \n",
       "2                                        NaN            NaN   \n",
       "3                                        3.0            NaN   \n",
       "4                                        0.5            NaN   \n",
       "\n",
       "   Rambo: First Blood Part II (1985)  Fargo (1996)  \\\n",
       "0                                NaN           NaN   \n",
       "1                                NaN           NaN   \n",
       "2                                NaN           NaN   \n",
       "3                                NaN           NaN   \n",
       "4                                0.5           1.0   \n",
       "\n",
       "   Let the Right One In (2008)  Black Swan (2010)  ...  \\\n",
       "0                          NaN                NaN  ...   \n",
       "1                          NaN                NaN  ...   \n",
       "2                          NaN                NaN  ...   \n",
       "3                          NaN                4.0  ...   \n",
       "4                          NaN                0.0  ...   \n",
       "\n",
       "   When watching a movie I cheer or shout or talk or curse at the screen  \\\n",
       "0                                                1.0                       \n",
       "1                                                3.0                       \n",
       "2                                                5.0                       \n",
       "3                                                3.0                       \n",
       "4                                                2.0                       \n",
       "\n",
       "   When watching a movie I feel like the things on the screen are happening to me  \\\n",
       "0                                                6.0                                \n",
       "1                                                1.0                                \n",
       "2                                                4.0                                \n",
       "3                                                1.0                                \n",
       "4                                                3.0                                \n",
       "\n",
       "   As a movie unfolds I start to have problems keeping track of events that happened earlier  \\\n",
       "0                                                2.0                                           \n",
       "1                                                1.0                                           \n",
       "2                                                3.0                                           \n",
       "3                                                1.0                                           \n",
       "4                                                2.0                                           \n",
       "\n",
       "   The emotions on the screen \"rub off\" on me - for instance if something sad is happening I get sad or if something frightening is happening I get scared  \\\n",
       "0                                                5.0                                                                                                         \n",
       "1                                                6.0                                                                                                         \n",
       "2                                                5.0                                                                                                         \n",
       "3                                                4.0                                                                                                         \n",
       "4                                                5.0                                                                                                         \n",
       "\n",
       "   When watching a movie I get completely immersed in the alternative reality of the film  \\\n",
       "0                                                5.0                                        \n",
       "1                                                5.0                                        \n",
       "2                                                5.0                                        \n",
       "3                                                5.0                                        \n",
       "4                                                6.0                                        \n",
       "\n",
       "   Movies change my position on social economic or political issues  \\\n",
       "0                                                5.0                  \n",
       "1                                                3.0                  \n",
       "2                                                4.0                  \n",
       "3                                                3.0                  \n",
       "4                                                4.0                  \n",
       "\n",
       "   When watching movies things get so intense that I have to stop watching  \\\n",
       "0                                                1.0                         \n",
       "1                                                2.0                         \n",
       "2                                                4.0                         \n",
       "3                                                1.0                         \n",
       "4                                                4.0                         \n",
       "\n",
       "   Gender identity (1 = female; 2 = male; 3 = self-described)  \\\n",
       "0                                                1.0            \n",
       "1                                                1.0            \n",
       "2                                                1.0            \n",
       "3                                                1.0            \n",
       "4                                                1.0            \n",
       "\n",
       "   Are you an only child? (1: Yes; 0: No; -1: Did not respond)  \\\n",
       "0                                                  0             \n",
       "1                                                  0             \n",
       "2                                                  1             \n",
       "3                                                  0             \n",
       "4                                                  1             \n",
       "\n",
       "   Movies are best enjoyed alone (1: Yes; 0: No; -1: Did not respond)  \n",
       "0                                                  1                   \n",
       "1                                                  0                   \n",
       "2                                                  0                   \n",
       "3                                                  1                   \n",
       "4                                                  1                   \n",
       "\n",
       "[5 rows x 477 columns]"
      ]
     },
     "execution_count": 2,
     "metadata": {},
     "output_type": "execute_result"
    }
   ],
   "source": [
    "#importing the dataset\n",
    "df=pd.read_csv('C:/Users/Mohan/Desktop/Assignment/movieReplicationSet.csv')\n",
    "df.head()"
   ]
  },
  {
   "cell_type": "code",
   "execution_count": 3,
   "id": "e5b10e5a",
   "metadata": {},
   "outputs": [
    {
     "data": {
      "text/plain": [
       "(1097, 477)"
      ]
     },
     "execution_count": 3,
     "metadata": {},
     "output_type": "execute_result"
    }
   ],
   "source": [
    "df.shape"
   ]
  },
  {
   "cell_type": "code",
   "execution_count": 4,
   "id": "16c9e21b",
   "metadata": {},
   "outputs": [
    {
     "data": {
      "text/plain": [
       "The Life of David Gale (2003)                                              1021\n",
       "Wing Commander (1999)                                                      1026\n",
       "Django Unchained (2012)                                                     644\n",
       "Alien (1979)                                                                808\n",
       "Indiana Jones and the Last Crusade (1989)                                   634\n",
       "                                                                           ... \n",
       "Movies change my position on social economic or political issues             20\n",
       "When watching movies things get so intense that I have to stop watching      18\n",
       "Gender identity (1 = female; 2 = male; 3 = self-described)                   24\n",
       "Are you an only child? (1: Yes; 0: No; -1: Did not respond)                   0\n",
       "Movies are best enjoyed alone (1: Yes; 0: No; -1: Did not respond)            0\n",
       "Length: 477, dtype: int64"
      ]
     },
     "execution_count": 4,
     "metadata": {},
     "output_type": "execute_result"
    }
   ],
   "source": [
    "df.isna().sum()"
   ]
  },
  {
   "cell_type": "code",
   "execution_count": 5,
   "id": "2373692f",
   "metadata": {},
   "outputs": [],
   "source": [
    "# calculate the column means           # axis = 0 means along the column and axis = 1 means working along the row.\n",
    "col_means = df.mean(axis=0)\n",
    "\n",
    "# calculate the row means\n",
    "row_means = df.mean(axis=1)"
   ]
  },
  {
   "cell_type": "code",
   "execution_count": 6,
   "id": "b7253965",
   "metadata": {},
   "outputs": [],
   "source": [
    "# impute the missing values by taking a 50:50 blend of the mean rating for each column and each row.\n",
    "for i in range(1097):\n",
    "    for j in range(400):\n",
    "        if pd.isnull(df.iloc[i,j]):\n",
    "            df.iloc[i,j] = 0.5 * (col_means[j] + row_means[i])"
   ]
  },
  {
   "cell_type": "code",
   "execution_count": 7,
   "id": "91b7206b",
   "metadata": {},
   "outputs": [
    {
     "data": {
      "text/plain": [
       "The Life of David Gale (2003)                                               0\n",
       "Wing Commander (1999)                                                       0\n",
       "Django Unchained (2012)                                                     0\n",
       "Alien (1979)                                                                0\n",
       "Indiana Jones and the Last Crusade (1989)                                   0\n",
       "                                                                           ..\n",
       "Movies change my position on social economic or political issues           20\n",
       "When watching movies things get so intense that I have to stop watching    18\n",
       "Gender identity (1 = female; 2 = male; 3 = self-described)                 24\n",
       "Are you an only child? (1: Yes; 0: No; -1: Did not respond)                 0\n",
       "Movies are best enjoyed alone (1: Yes; 0: No; -1: Did not respond)          0\n",
       "Length: 477, dtype: int64"
      ]
     },
     "execution_count": 7,
     "metadata": {},
     "output_type": "execute_result"
    }
   ],
   "source": [
    "df.isna().sum()"
   ]
  },
  {
   "cell_type": "raw",
   "id": "e2050c60",
   "metadata": {},
   "source": [
    "Now, we can move on to the second task, which is to build 399 simple linear regression models for each of the 400 movies to predict their ratings using the ratings of the other movies in the dataset."
   ]
  },
  {
   "cell_type": "code",
   "execution_count": 8,
   "id": "823e13bd",
   "metadata": {},
   "outputs": [],
   "source": [
    "ratings = df.iloc[:, :400]"
   ]
  },
  {
   "cell_type": "code",
   "execution_count": 9,
   "id": "c8b79b16",
   "metadata": {
    "scrolled": false
   },
   "outputs": [],
   "source": [
    "# initialize the model\n",
    "model = LinearRegression()\n",
    "\n",
    "# create a list to store the COD values\n",
    "cods = []\n",
    "\n",
    "# loop over the movies\n",
    "for i in range(400):\n",
    "    # select the ratings for the current movie\n",
    "    X = ratings.iloc[:, np.arange(400) != i].values\n",
    "    # select the ratings of the current movie as the target variable\n",
    "    y = ratings.iloc[:, i].values\n",
    "    # fit the model\n",
    "    model.fit(X, y)\n",
    "    # make predictions\n",
    "    y_pred = model.predict(X)\n",
    "    # calculate the COD\n",
    "    cod = r2_score(y, y_pred)\n",
    "    #print('r2 score for perfect model is', cod)\n",
    "    cods.append(cod)"
   ]
  },
  {
   "cell_type": "code",
   "execution_count": 10,
   "id": "804e978a",
   "metadata": {},
   "outputs": [
    {
     "name": "stdout",
     "output_type": "stream",
     "text": [
      "Average COD: 0.7981019552674633\n"
     ]
    }
   ],
   "source": [
    "# calculate the average COD\n",
    "avg_cod = np.mean(cods)\n",
    "\n",
    "# print the average COD\n",
    "print(\"Average COD:\", avg_cod)"
   ]
  },
  {
   "cell_type": "code",
   "execution_count": 11,
   "id": "84ad94f3",
   "metadata": {},
   "outputs": [
    {
     "data": {
      "image/png": "[encoded data removed]",
      "text/plain": [
       "<Figure size 640x480 with 1 Axes>"
      ]
     },
     "metadata": {},
     "output_type": "display_data"
    }
   ],
   "source": [
    "# Create a histogram of the COD values\n",
    "plt.hist(cods, bins=20)\n",
    "plt.xlabel(\"COD\")\n",
    "plt.ylabel(\"Count\")\n",
    "plt.show()"
   ]
  },
  {
   "cell_type": "code",
   "execution_count": null,
   "id": "43e389c6",
   "metadata": {},
   "outputs": [],
   "source": []
  },
  {
   "cell_type": "code",
   "execution_count": null,
   "id": "18275241",
   "metadata": {},
   "outputs": [],
   "source": []
  },
  {
   "cell_type": "code",
   "execution_count": null,
   "id": "803542a0",
   "metadata": {},
   "outputs": [],
   "source": []
  },
  {
   "cell_type": "code",
   "execution_count": null,
   "id": "25fe5a13",
   "metadata": {},
   "outputs": [],
   "source": []
  },
  {
   "cell_type": "code",
   "execution_count": null,
   "id": "9a7a0e61",
   "metadata": {},
   "outputs": [],
   "source": []
  }
 ],
 "metadata": {
  "kernelspec": {
   "display_name": "Python 3 (ipykernel)",
   "language": "python",
   "name": "python3"
  },
  "language_info": {
   "codemirror_mode": {
    "name": "ipython",
    "version": 3
   },
   "file_extension": ".py",
   "mimetype": "text/x-python",
   "name": "python",
   "nbconvert_exporter": "python",
   "pygments_lexer": "ipython3",
   "version": "3.9.13"
  }
 },
 "nbformat": 4,
 "nbformat_minor": 5
}
